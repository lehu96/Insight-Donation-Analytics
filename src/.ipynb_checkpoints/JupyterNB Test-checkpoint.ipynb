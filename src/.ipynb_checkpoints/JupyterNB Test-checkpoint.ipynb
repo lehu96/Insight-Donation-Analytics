{
 "cells": [
  {
   "cell_type": "code",
   "execution_count": 8,
   "metadata": {},
   "outputs": [
    {
     "data": {
      "text/plain": [
       "0.008564899357953237"
      ]
     },
     "execution_count": 8,
     "metadata": {},
     "output_type": "execute_result"
    }
   ],
   "source": [
    "\n",
    "import csv \n",
    "from datetime import datetime\n",
    "import re\n",
    "import timeit\n",
    "import bisect \n",
    "import math\n",
    "\n",
    "HEADER_NAMES = ['CMTE_ID', 'AMNDT_IND', 'RPT_TP', 'TRANSACTION_PGI', 'IMAGE_NUM',\n",
    "                        'TRANSACTION_TP', 'ENTITY_TP', 'NAME', 'CITY', 'STATE',\n",
    "                        'ZIP_CODE', 'EMPLOYER', 'OCCUPATION', 'TRANSACTION_DT', 'TRANSACTION_AMT',\n",
    "                        'OTHER_ID', 'TRAN_ID', 'FILE_NUM', 'MEMO_CD', 'MEMO_TEXT,SUB_ID']\n",
    "REPEAT_DICT = {}\n",
    "VALUES_DICT = {}\n",
    "\n",
    "timeit.timeit(main, number=1)"
   ]
  },
  {
   "cell_type": "code",
   "execution_count": 1,
   "metadata": {},
   "outputs": [],
   "source": [
    "def main():\n",
    "    with open('percentile.txt') as perc:\n",
    "        percentile = int(perc.read())\n",
    "    with open('itcont.txt','r') as records, open('repeat_donors.txt', 'w') as output:\n",
    "        reader = csv.DictReader(records, fieldnames=HEADER_NAMES, delimiter='|')\n",
    "        writer = csv.writer(output, delimiter='|')\n",
    "        for row in reader:\n",
    "            raw_data = [row['CMTE_ID'], row['NAME'], row['ZIP_CODE'], row['TRANSACTION_DT'], row['TRANSACTION_AMT'], row['OTHER_ID']]\n",
    "            if check_valid_input(raw_data):\n",
    "                is_repeat = check_repeat(raw_data)\n",
    "                if is_repeat:\n",
    "                    record = add_to_outputs(raw_data, percentile)\n",
    "                    writer.writerow(record)"
   ]
  },
  {
   "cell_type": "code",
   "execution_count": 2,
   "metadata": {},
   "outputs": [],
   "source": [
    "def check_valid_input(record):\n",
    "    if record[5]:\n",
    "        return False\n",
    "    if not record[0] or not record[1] or not record[2] or not record[3] or not record[4]:\n",
    "        return False\n",
    "    if re.search(r'\\d', record[1]):\n",
    "        return False\n",
    "    record[2] = record[2][:5]\n",
    "    if len(record[2]) < 5:\n",
    "        return False\n",
    "    try:\n",
    "        record[3] = datetime.strptime(record[3], '%m%d%Y')\n",
    "    except ValueError:\n",
    "        return False\n",
    "    return True"
   ]
  },
  {
   "cell_type": "code",
   "execution_count": 3,
   "metadata": {},
   "outputs": [],
   "source": [
    "def check_repeat(record):\n",
    "    key = (record[1], record[2])\n",
    "    date_exists = REPEAT_DICT.get(key, 0)\n",
    "    if not date_exists or record[3] < date_exists:\n",
    "        REPEAT_DICT[key] = record[3]\n",
    "        return False\n",
    "    else:\n",
    "        return True"
   ]
  },
  {
   "cell_type": "code",
   "execution_count": 7,
   "metadata": {},
   "outputs": [],
   "source": [
    "# Append sort \n",
    "def add_to_outputs(record, percentile):\n",
    "    key = (record[0], record[2], datetime.strftime(record[3], '%Y'))\n",
    "    output_exists = VALUES_DICT.get(key, 0)\n",
    "    if not output_exists:\n",
    "        new_value = [[record[4]], int(record[4]), 1]\n",
    "        VALUES_DICT[key] = list(new_value)\n",
    "        out = list(key)\n",
    "        new_value[0] = record[4]\n",
    "        out.extend(new_value)\n",
    "        return out\n",
    "    else:\n",
    "        curr_value = VALUES_DICT[key]\n",
    "        curr_value[0].append(record[4])\n",
    "        curr_value[0].sort()\n",
    "        update_value = [curr_value[0], curr_value[1]+int(record[4]), curr_value[2]+1]\n",
    "        VALUES_DICT[key] = list(update_value)\n",
    "        out = list(key)\n",
    "        update_value[0] = calc_and_format_output(update_value[0], update_value[2], percentile)\n",
    "        out.extend(update_value)\n",
    "        return out"
   ]
  },
  {
   "cell_type": "code",
   "execution_count": 5,
   "metadata": {},
   "outputs": [],
   "source": [
    "def calc_and_format_output(arr, length, percentile):\n",
    "    index = math.ceil(percentile * length * 0.01)\n",
    "    num = arr[index-1]\n",
    "    return num    "
   ]
  },
  {
   "cell_type": "code",
   "execution_count": 6,
   "metadata": {},
   "outputs": [],
   "source": [
    "# Bisect module/algorithm alternative\n",
    "def add_to_outputs_bis(record):\n",
    "    key = (record[0], record[2], datetime.strftime(record[3], '%Y'))\n",
    "    output_exists = VALUES_DICT.get(key, 0)\n",
    "    if not output_exists:\n",
    "        new_value = [[record[4]], int(record[4]), 1]\n",
    "        VALUES_DICT[key] = list(new_value)\n",
    "        out = list(key)\n",
    "        out.extend(new_value)\n",
    "        return out\n",
    "    else:\n",
    "        curr_value = VALUES_DICT[key]\n",
    "        bisect.insort(curr_value[0], record[4])\n",
    "        update_value = [curr_value[0], curr_value[1]+int(record[4]), curr_value[2]+1]\n",
    "        VALUES_DICT[key] = list(update_value)\n",
    "        out = list(key)\n",
    "        out.extend(update_value)\n",
    "        return out"
   ]
  },
  {
   "cell_type": "code",
   "execution_count": 8,
   "metadata": {},
   "outputs": [
    {
     "name": "stdout",
     "output_type": "stream",
     "text": [
      "{('DEEHAN, WILLIAM N', '30004'): datetime.datetime(2017, 1, 31, 0, 0), ('ABBOTT, JOSEPH', '02895'): datetime.datetime(2017, 1, 12, 0, 0), ('SABOURIN, JAMES', '02895'): datetime.datetime(2017, 1, 31, 0, 0), ('JEROME, CHRISTOPHER', '30750'): datetime.datetime(2017, 10, 31, 0, 0)}\n"
     ]
    }
   ],
   "source": [
    "print(REPEAT_DICT)"
   ]
  },
  {
   "cell_type": "code",
   "execution_count": 9,
   "metadata": {},
   "outputs": [
    {
     "name": "stdout",
     "output_type": "stream",
     "text": [
      "{('C00384516', '02895', '2018'): ['333', 333, 1]}\n"
     ]
    }
   ],
   "source": [
    "print(VALUES_DICT)"
   ]
  },
  {
   "cell_type": "code",
   "execution_count": null,
   "metadata": {},
   "outputs": [],
   "source": []
  }
 ],
 "metadata": {
  "kernelspec": {
   "display_name": "Python 3",
   "language": "python",
   "name": "python3"
  },
  "language_info": {
   "codemirror_mode": {
    "name": "ipython",
    "version": 3
   },
   "file_extension": ".py",
   "mimetype": "text/x-python",
   "name": "python",
   "nbconvert_exporter": "python",
   "pygments_lexer": "ipython3",
   "version": "3.6.4"
  }
 },
 "nbformat": 4,
 "nbformat_minor": 2
}
